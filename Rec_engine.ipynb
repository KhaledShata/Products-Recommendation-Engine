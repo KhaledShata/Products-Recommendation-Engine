{
 "cells": [
  {
   "cell_type": "code",
   "execution_count": 1,
   "id": "1905e9de",
   "metadata": {},
   "outputs": [],
   "source": [
    "import numpy as np\n",
    "import pandas as pd\n",
    "import matplotlib.pyplot as plt\n",
    "import numpy as np\n",
    "from sentence_transformers import SentenceTransformer\n",
    "import pandas as pd\n",
    "import seaborn as sns\n",
    "from sklearn.feature_extraction.text import CountVectorizer\n",
    "from sklearn.cluster import KMeans\n",
    "from sklearn.metrics.pairwise import cosine_similarity\n",
    "from sklearn.decomposition import PCA\n"
   ]
  },
  {
   "cell_type": "code",
   "execution_count": 20,
   "id": "7487c2f8",
   "metadata": {},
   "outputs": [],
   "source": [
    "df = pd.read_csv(r'E:\\Omdena\\Berlin-Chapter\\Data Collection\\Task_2_WITH_PRICE_Updated_RECLAS_OTHER (1).csv',low_memory=False)"
   ]
  },
  {
   "cell_type": "code",
   "execution_count": 21,
   "id": "9686e07e",
   "metadata": {},
   "outputs": [
    {
     "data": {
      "text/plain": [
       "(103680, 29)"
      ]
     },
     "execution_count": 21,
     "metadata": {},
     "output_type": "execute_result"
    }
   ],
   "source": [
    "df.shape"
   ]
  },
  {
   "cell_type": "code",
   "execution_count": 22,
   "id": "e368e4a3",
   "metadata": {},
   "outputs": [
    {
     "name": "stdout",
     "output_type": "stream",
     "text": [
      "<class 'pandas.core.frame.DataFrame'>\n",
      "RangeIndex: 103680 entries, 0 to 103679\n",
      "Data columns (total 29 columns):\n",
      " #   Column                 Non-Null Count   Dtype  \n",
      "---  ------                 --------------   -----  \n",
      " 0   UID                    103680 non-null  int64  \n",
      " 1   PRODUCT_NAME           103679 non-null  object \n",
      " 2   IMAGE_URL              103057 non-null  object \n",
      " 3   PRODUCT_PRICE          103680 non-null  float64\n",
      " 4   PRODUCT_LINK           103591 non-null  object \n",
      " 5   PRODUCT_INFORMATION_T  32313 non-null   object \n",
      " 6   CATEGORY               103680 non-null  object \n",
      " 7   SUB_CATEGORY           85940 non-null   object \n",
      " 8   PRICE_PER_KG/L         79028 non-null   object \n",
      " 9   PRODUCT_QUANTITY       23968 non-null   object \n",
      " 10  SATURATED_FATTY_ACIDS  41021 non-null   float64\n",
      " 11  CARBOHYDRATES          42902 non-null   float64\n",
      " 12  SUGAR                  41520 non-null   float64\n",
      " 13  PROTEIN                42549 non-null   float64\n",
      " 14  FIBER                  5608 non-null    float64\n",
      " 15  SALT                   40268 non-null   float64\n",
      " 16  FAT                    42450 non-null   float64\n",
      " 17  INGREDIENTS            83391 non-null   object \n",
      " 18  ALLERGENS              3940 non-null    object \n",
      " 19  STORAGE_INFORMATION    32793 non-null   object \n",
      " 20  PRODUCT_REVIEWS        49083 non-null   object \n",
      " 21  STORE_LINK             530 non-null     object \n",
      " 22  STORE_NAME             103680 non-null  object \n",
      " 23  PRICE_PER_KG/L_UNIT    79448 non-null   object \n",
      " 24  ENERGY_KJ              38736 non-null   float64\n",
      " 25  SUB_SUB_CATEGORY       41033 non-null   object \n",
      " 26  PRODUCT_BRAND          63778 non-null   object \n",
      " 27  PRODUCT_INFORMATION    0 non-null       float64\n",
      " 28  MANUFACTURER           78172 non-null   object \n",
      "dtypes: float64(10), int64(1), object(18)\n",
      "memory usage: 22.9+ MB\n"
     ]
    }
   ],
   "source": [
    "df.info()"
   ]
  },
  {
   "cell_type": "markdown",
   "id": "deb249d0",
   "metadata": {},
   "source": [
    "# Feature Selection"
   ]
  },
  {
   "cell_type": "code",
   "execution_count": 55,
   "id": "53077864",
   "metadata": {},
   "outputs": [
    {
     "data": {
      "text/plain": [
       "Index(['UID', 'PRODUCT_NAME', 'IMAGE_URL', 'PRODUCT_PRICE', 'PRODUCT_LINK',\n",
       "       'PRODUCT_INFORMATION_T', 'CATEGORY', 'SUB_CATEGORY', 'PRICE_PER_KG/L',\n",
       "       'PRODUCT_QUANTITY', 'SATURATED_FATTY_ACIDS', 'CARBOHYDRATES', 'SUGAR',\n",
       "       'PROTEIN', 'FIBER', 'SALT', 'FAT', 'INGREDIENTS', 'ALLERGENS',\n",
       "       'STORAGE_INFORMATION', 'PRODUCT_REVIEWS', 'STORE_LINK', 'STORE_NAME',\n",
       "       'PRICE_PER_KG/L_UNIT', 'ENERGY_KJ', 'SUB_SUB_CATEGORY', 'PRODUCT_BRAND',\n",
       "       'PRODUCT_INFORMATION', 'MANUFACTURER'],\n",
       "      dtype='object')"
      ]
     },
     "execution_count": 55,
     "metadata": {},
     "output_type": "execute_result"
    }
   ],
   "source": [
    "df.columns"
   ]
  },
  {
   "cell_type": "code",
   "execution_count": 68,
   "id": "bb05c5e9",
   "metadata": {},
   "outputs": [],
   "source": [
    "selected_cols =  ['PRODUCT_NAME'  , 'PRODUCT_INFORMATION_T' , 'CATEGORY' , 'SUB_CATEGORY']\n",
    "new_df = df[selected_cols]"
   ]
  },
  {
   "cell_type": "code",
   "execution_count": 69,
   "id": "a24a6594",
   "metadata": {},
   "outputs": [
    {
     "data": {
      "text/html": [
       "<div>\n",
       "<style scoped>\n",
       "    .dataframe tbody tr th:only-of-type {\n",
       "        vertical-align: middle;\n",
       "    }\n",
       "\n",
       "    .dataframe tbody tr th {\n",
       "        vertical-align: top;\n",
       "    }\n",
       "\n",
       "    .dataframe thead th {\n",
       "        text-align: right;\n",
       "    }\n",
       "</style>\n",
       "<table border=\"1\" class=\"dataframe\">\n",
       "  <thead>\n",
       "    <tr style=\"text-align: right;\">\n",
       "      <th></th>\n",
       "      <th>PRODUCT_NAME</th>\n",
       "      <th>PRODUCT_INFORMATION_T</th>\n",
       "      <th>CATEGORY</th>\n",
       "      <th>SUB_CATEGORY</th>\n",
       "    </tr>\n",
       "  </thead>\n",
       "  <tbody>\n",
       "    <tr>\n",
       "      <th>0</th>\n",
       "      <td>Cruz de Malta Yerba Mate Tea Seleccion Especia...</td>\n",
       "      <td>NaN</td>\n",
       "      <td>Food &amp; Beverage</td>\n",
       "      <td>Coffee &amp; Tea</td>\n",
       "    </tr>\n",
       "    <tr>\n",
       "      <th>1</th>\n",
       "      <td>Cruz de Malta Yerba Mate Tradicional 500g -Mat...</td>\n",
       "      <td>NaN</td>\n",
       "      <td>Food &amp; Beverage</td>\n",
       "      <td>Coffee &amp; Tea</td>\n",
       "    </tr>\n",
       "    <tr>\n",
       "      <th>2</th>\n",
       "      <td>Happy Breastfeeding® - BIO mild breastfeeding ...</td>\n",
       "      <td>NaN</td>\n",
       "      <td>Food &amp; Beverage</td>\n",
       "      <td>Coffee &amp; Tea</td>\n",
       "    </tr>\n",
       "    <tr>\n",
       "      <th>3</th>\n",
       "      <td>Happy Breastfeeding® - BIO mild breastfeeding ...</td>\n",
       "      <td>NaN</td>\n",
       "      <td>Food &amp; Beverage</td>\n",
       "      <td>Coffee &amp; Tea</td>\n",
       "    </tr>\n",
       "    <tr>\n",
       "      <th>4</th>\n",
       "      <td>PregniVital® - birth preparation - especially ...</td>\n",
       "      <td>NaN</td>\n",
       "      <td>Food &amp; Beverage</td>\n",
       "      <td>Coffee &amp; Tea</td>\n",
       "    </tr>\n",
       "  </tbody>\n",
       "</table>\n",
       "</div>"
      ],
      "text/plain": [
       "                                        PRODUCT_NAME PRODUCT_INFORMATION_T  \\\n",
       "0  Cruz de Malta Yerba Mate Tea Seleccion Especia...                   NaN   \n",
       "1  Cruz de Malta Yerba Mate Tradicional 500g -Mat...                   NaN   \n",
       "2  Happy Breastfeeding® - BIO mild breastfeeding ...                   NaN   \n",
       "3  Happy Breastfeeding® - BIO mild breastfeeding ...                   NaN   \n",
       "4  PregniVital® - birth preparation - especially ...                   NaN   \n",
       "\n",
       "          CATEGORY  SUB_CATEGORY  \n",
       "0  Food & Beverage  Coffee & Tea  \n",
       "1  Food & Beverage  Coffee & Tea  \n",
       "2  Food & Beverage  Coffee & Tea  \n",
       "3  Food & Beverage  Coffee & Tea  \n",
       "4  Food & Beverage  Coffee & Tea  "
      ]
     },
     "execution_count": 69,
     "metadata": {},
     "output_type": "execute_result"
    }
   ],
   "source": [
    "new_df.head()"
   ]
  },
  {
   "cell_type": "code",
   "execution_count": 70,
   "id": "ecb389b2",
   "metadata": {},
   "outputs": [
    {
     "name": "stderr",
     "output_type": "stream",
     "text": [
      "C:\\Users\\dell\\AppData\\Local\\Temp\\ipykernel_9812\\3933349191.py:1: SettingWithCopyWarning: \n",
      "A value is trying to be set on a copy of a slice from a DataFrame.\n",
      "Try using .loc[row_indexer,col_indexer] = value instead\n",
      "\n",
      "See the caveats in the documentation: https://pandas.pydata.org/pandas-docs/stable/user_guide/indexing.html#returning-a-view-versus-a-copy\n",
      "  new_df['PRODUCT_INFORMATION_T'] = new_df['PRODUCT_INFORMATION_T'].fillna(new_df['PRODUCT_NAME'] + \" \" + new_df['CATEGORY'] + \" \" + new_df['SUB_CATEGORY'])\n"
     ]
    }
   ],
   "source": [
    "new_df['PRODUCT_INFORMATION_T'] = new_df['PRODUCT_INFORMATION_T'].fillna(new_df['PRODUCT_NAME'] + \" \" + new_df['CATEGORY'] + \" \" + new_df['SUB_CATEGORY'])"
   ]
  },
  {
   "cell_type": "markdown",
   "id": "a6a7cae8",
   "metadata": {},
   "source": [
    "# Building the Recommendation Engine"
   ]
  },
  {
   "cell_type": "code",
   "execution_count": 102,
   "id": "70271fda",
   "metadata": {},
   "outputs": [
    {
     "name": "stderr",
     "output_type": "stream",
     "text": [
      "[nltk_data] Downloading package stopwords to\n",
      "[nltk_data]     C:\\Users\\dell\\AppData\\Roaming\\nltk_data...\n",
      "[nltk_data]   Package stopwords is already up-to-date!\n",
      "[nltk_data] Downloading package punkt to\n",
      "[nltk_data]     C:\\Users\\dell\\AppData\\Roaming\\nltk_data...\n",
      "[nltk_data]   Package punkt is already up-to-date!\n"
     ]
    },
    {
     "data": {
      "text/plain": [
       "True"
      ]
     },
     "execution_count": 102,
     "metadata": {},
     "output_type": "execute_result"
    }
   ],
   "source": [
    "import re\n",
    "import nltk\n",
    "from nltk.corpus import stopwords\n",
    "from nltk.tokenize import word_tokenize\n",
    "from sklearn.feature_extraction.text import TfidfVectorizer\n",
    "from sklearn.metrics.pairwise import cosine_similarity\n",
    "import pandas as pd\n",
    "from IPython.display import Image, display, HTML\n",
    "\n",
    "# Download NLTK resources (only need to run once)\n",
    "nltk.download('stopwords')\n",
    "nltk.download('punkt')"
   ]
  },
  {
   "cell_type": "code",
   "execution_count": 79,
   "id": "eb896b24",
   "metadata": {},
   "outputs": [],
   "source": [
    "def preprocess_text(text):\n",
    "    if pd.isnull(text):  # Check if text is null\n",
    "        return ''\n",
    "    text = re.sub(r\"[^a-zA-Z0-9]\", \" \", str(text).lower())  # Convert to string before applying lower() function\n",
    "    tokens = word_tokenize(text)\n",
    "    stop_words = set(stopwords.words(\"english\"))\n",
    "    filtered_tokens = [token for token in tokens if token not in stop_words]\n",
    "    processed_text = \" \".join(filtered_tokens)\n",
    "    return processed_text"
   ]
  },
  {
   "cell_type": "code",
   "execution_count": 80,
   "id": "83e95833",
   "metadata": {},
   "outputs": [
    {
     "data": {
      "text/plain": [
       "Index(['PRODUCT_NAME', 'PRODUCT_INFORMATION_T', 'CATEGORY', 'SUB_CATEGORY'], dtype='object')"
      ]
     },
     "execution_count": 80,
     "metadata": {},
     "output_type": "execute_result"
    }
   ],
   "source": [
    "new_df.columns"
   ]
  },
  {
   "cell_type": "code",
   "execution_count": 81,
   "id": "97cd74dc",
   "metadata": {},
   "outputs": [
    {
     "name": "stderr",
     "output_type": "stream",
     "text": [
      "C:\\Users\\dell\\AppData\\Local\\Temp\\ipykernel_9812\\1722157832.py:1: SettingWithCopyWarning: \n",
      "A value is trying to be set on a copy of a slice from a DataFrame.\n",
      "Try using .loc[row_indexer,col_indexer] = value instead\n",
      "\n",
      "See the caveats in the documentation: https://pandas.pydata.org/pandas-docs/stable/user_guide/indexing.html#returning-a-view-versus-a-copy\n",
      "  new_df['consolidated_text'] = new_df['PRODUCT_NAME'].apply(preprocess_text) + ' ' + new_df['PRODUCT_INFORMATION_T'].apply(preprocess_text) + ' ' + new_df['CATEGORY'].apply(preprocess_text) +' ' + new_df['SUB_CATEGORY'].apply(preprocess_text)\n"
     ]
    }
   ],
   "source": [
    "new_df['consolidated_text'] = new_df['PRODUCT_NAME'].apply(preprocess_text) + ' ' + new_df['PRODUCT_INFORMATION_T'].apply(preprocess_text) + ' ' + new_df['CATEGORY'].apply(preprocess_text) +' ' + new_df['SUB_CATEGORY'].apply(preprocess_text)"
   ]
  },
  {
   "cell_type": "code",
   "execution_count": 83,
   "id": "084c5128",
   "metadata": {},
   "outputs": [],
   "source": [
    "# Create TF-IDF vectorizer\n",
    "tfidf_vectorizer = TfidfVectorizer()\n",
    "\n",
    "# Fit the vectorizer on the consolidated textual data\n",
    "text_embeddings = tfidf_vectorizer.fit_transform(new_df['consolidated_text'])"
   ]
  },
  {
   "cell_type": "code",
   "execution_count": 95,
   "id": "47d8cbb2",
   "metadata": {},
   "outputs": [
    {
     "name": "stderr",
     "output_type": "stream",
     "text": [
      "C:\\Users\\dell\\AppData\\Local\\Temp\\ipykernel_9812\\2802522858.py:2: SettingWithCopyWarning: \n",
      "A value is trying to be set on a copy of a slice from a DataFrame.\n",
      "Try using .loc[row_indexer,col_indexer] = value instead\n",
      "\n",
      "See the caveats in the documentation: https://pandas.pydata.org/pandas-docs/stable/user_guide/indexing.html#returning-a-view-versus-a-copy\n",
      "  processed_df['IMAGE_URL'] = df['IMAGE_URL']\n",
      "C:\\Users\\dell\\AppData\\Local\\Temp\\ipykernel_9812\\2802522858.py:3: SettingWithCopyWarning: \n",
      "A value is trying to be set on a copy of a slice from a DataFrame.\n",
      "Try using .loc[row_indexer,col_indexer] = value instead\n",
      "\n",
      "See the caveats in the documentation: https://pandas.pydata.org/pandas-docs/stable/user_guide/indexing.html#returning-a-view-versus-a-copy\n",
      "  processed_df['PRODUCT_PRICE'] = df['PRODUCT_PRICE']\n",
      "C:\\Users\\dell\\AppData\\Local\\Temp\\ipykernel_9812\\2802522858.py:4: SettingWithCopyWarning: \n",
      "A value is trying to be set on a copy of a slice from a DataFrame.\n",
      "Try using .loc[row_indexer,col_indexer] = value instead\n",
      "\n",
      "See the caveats in the documentation: https://pandas.pydata.org/pandas-docs/stable/user_guide/indexing.html#returning-a-view-versus-a-copy\n",
      "  processed_df['PRODUCT_BRAND'] = df['PRODUCT_BRAND']\n"
     ]
    }
   ],
   "source": [
    "processed_df = new_df\n",
    "processed_df['IMAGE_URL'] = df['IMAGE_URL']\n",
    "processed_df['PRODUCT_PRICE'] = df['PRODUCT_PRICE']\n",
    "processed_df['PRODUCT_BRAND'] = df['PRODUCT_BRAND']"
   ]
  },
  {
   "cell_type": "code",
   "execution_count": 96,
   "id": "bd38d483",
   "metadata": {},
   "outputs": [
    {
     "data": {
      "text/html": [
       "<div>\n",
       "<style scoped>\n",
       "    .dataframe tbody tr th:only-of-type {\n",
       "        vertical-align: middle;\n",
       "    }\n",
       "\n",
       "    .dataframe tbody tr th {\n",
       "        vertical-align: top;\n",
       "    }\n",
       "\n",
       "    .dataframe thead th {\n",
       "        text-align: right;\n",
       "    }\n",
       "</style>\n",
       "<table border=\"1\" class=\"dataframe\">\n",
       "  <thead>\n",
       "    <tr style=\"text-align: right;\">\n",
       "      <th></th>\n",
       "      <th>PRODUCT_NAME</th>\n",
       "      <th>PRODUCT_INFORMATION_T</th>\n",
       "      <th>CATEGORY</th>\n",
       "      <th>SUB_CATEGORY</th>\n",
       "      <th>consolidated_text</th>\n",
       "      <th>IMAGE_URL</th>\n",
       "      <th>PRODUCT_PRICE</th>\n",
       "      <th>PRODUCT_BRAND</th>\n",
       "    </tr>\n",
       "  </thead>\n",
       "  <tbody>\n",
       "    <tr>\n",
       "      <th>0</th>\n",
       "      <td>Cruz de Malta Yerba Mate Tea Seleccion Especia...</td>\n",
       "      <td>Cruz de Malta Yerba Mate Tea Seleccion Especia...</td>\n",
       "      <td>Food &amp; Beverage</td>\n",
       "      <td>Coffee &amp; Tea</td>\n",
       "      <td>cruz de malta yerba mate tea seleccion especia...</td>\n",
       "      <td>https://m.media-amazon.com/images/I/61jIegDXt7...</td>\n",
       "      <td>12.84</td>\n",
       "      <td>Besuche den Yerbox-Store</td>\n",
       "    </tr>\n",
       "    <tr>\n",
       "      <th>1</th>\n",
       "      <td>Cruz de Malta Yerba Mate Tradicional 500g -Mat...</td>\n",
       "      <td>Cruz de Malta Yerba Mate Tradicional 500g -Mat...</td>\n",
       "      <td>Food &amp; Beverage</td>\n",
       "      <td>Coffee &amp; Tea</td>\n",
       "      <td>cruz de malta yerba mate tradicional 500g mate...</td>\n",
       "      <td>https://m.media-amazon.com/images/I/61lh3d+cO8...</td>\n",
       "      <td>9.80</td>\n",
       "      <td>Besuche den Yerbee-Store</td>\n",
       "    </tr>\n",
       "    <tr>\n",
       "      <th>2</th>\n",
       "      <td>Happy Breastfeeding® - BIO mild breastfeeding ...</td>\n",
       "      <td>Happy Breastfeeding® - BIO mild breastfeeding ...</td>\n",
       "      <td>Food &amp; Beverage</td>\n",
       "      <td>Coffee &amp; Tea</td>\n",
       "      <td>happy breastfeeding bio mild breastfeeding tea...</td>\n",
       "      <td>https://m.media-amazon.com/images/I/81A6JiL4KX...</td>\n",
       "      <td>9.99</td>\n",
       "      <td>Besuche den PregniVital-Store</td>\n",
       "    </tr>\n",
       "    <tr>\n",
       "      <th>3</th>\n",
       "      <td>Happy Breastfeeding® - BIO mild breastfeeding ...</td>\n",
       "      <td>Happy Breastfeeding® - BIO mild breastfeeding ...</td>\n",
       "      <td>Food &amp; Beverage</td>\n",
       "      <td>Coffee &amp; Tea</td>\n",
       "      <td>happy breastfeeding bio mild breastfeeding tea...</td>\n",
       "      <td>https://m.media-amazon.com/images/I/81A6JiL4KX...</td>\n",
       "      <td>9.99</td>\n",
       "      <td>Besuche den PregniVital-Store</td>\n",
       "    </tr>\n",
       "    <tr>\n",
       "      <th>4</th>\n",
       "      <td>PregniVital® - birth preparation - especially ...</td>\n",
       "      <td>PregniVital® - birth preparation - especially ...</td>\n",
       "      <td>Food &amp; Beverage</td>\n",
       "      <td>Coffee &amp; Tea</td>\n",
       "      <td>pregnivital birth preparation especially 37th ...</td>\n",
       "      <td>https://m.media-amazon.com/images/I/81JPy79Vxy...</td>\n",
       "      <td>9.99</td>\n",
       "      <td>Besuche den PregniVital-Store</td>\n",
       "    </tr>\n",
       "  </tbody>\n",
       "</table>\n",
       "</div>"
      ],
      "text/plain": [
       "                                        PRODUCT_NAME  \\\n",
       "0  Cruz de Malta Yerba Mate Tea Seleccion Especia...   \n",
       "1  Cruz de Malta Yerba Mate Tradicional 500g -Mat...   \n",
       "2  Happy Breastfeeding® - BIO mild breastfeeding ...   \n",
       "3  Happy Breastfeeding® - BIO mild breastfeeding ...   \n",
       "4  PregniVital® - birth preparation - especially ...   \n",
       "\n",
       "                               PRODUCT_INFORMATION_T         CATEGORY  \\\n",
       "0  Cruz de Malta Yerba Mate Tea Seleccion Especia...  Food & Beverage   \n",
       "1  Cruz de Malta Yerba Mate Tradicional 500g -Mat...  Food & Beverage   \n",
       "2  Happy Breastfeeding® - BIO mild breastfeeding ...  Food & Beverage   \n",
       "3  Happy Breastfeeding® - BIO mild breastfeeding ...  Food & Beverage   \n",
       "4  PregniVital® - birth preparation - especially ...  Food & Beverage   \n",
       "\n",
       "   SUB_CATEGORY                                  consolidated_text  \\\n",
       "0  Coffee & Tea  cruz de malta yerba mate tea seleccion especia...   \n",
       "1  Coffee & Tea  cruz de malta yerba mate tradicional 500g mate...   \n",
       "2  Coffee & Tea  happy breastfeeding bio mild breastfeeding tea...   \n",
       "3  Coffee & Tea  happy breastfeeding bio mild breastfeeding tea...   \n",
       "4  Coffee & Tea  pregnivital birth preparation especially 37th ...   \n",
       "\n",
       "                                           IMAGE_URL  PRODUCT_PRICE  \\\n",
       "0  https://m.media-amazon.com/images/I/61jIegDXt7...          12.84   \n",
       "1  https://m.media-amazon.com/images/I/61lh3d+cO8...           9.80   \n",
       "2  https://m.media-amazon.com/images/I/81A6JiL4KX...           9.99   \n",
       "3  https://m.media-amazon.com/images/I/81A6JiL4KX...           9.99   \n",
       "4  https://m.media-amazon.com/images/I/81JPy79Vxy...           9.99   \n",
       "\n",
       "                   PRODUCT_BRAND  \n",
       "0       Besuche den Yerbox-Store  \n",
       "1       Besuche den Yerbee-Store  \n",
       "2  Besuche den PregniVital-Store  \n",
       "3  Besuche den PregniVital-Store  \n",
       "4  Besuche den PregniVital-Store  "
      ]
     },
     "execution_count": 96,
     "metadata": {},
     "output_type": "execute_result"
    }
   ],
   "source": [
    "processed_df.head()"
   ]
  },
  {
   "cell_type": "code",
   "execution_count": 98,
   "id": "d79dbfe4",
   "metadata": {},
   "outputs": [],
   "source": [
    "def search_products(query, top_n=5):\n",
    "    # Preprocess the query\n",
    "    query = preprocess_text(query)\n",
    "    # Transform the query into an embedding using the TF-IDF vectorizer\n",
    "    query_embedding = tfidf_vectorizer.transform([query])\n",
    "    # Calculate the cosine similarity between the query embedding and all product embeddings\n",
    "    similarity_scores = cosine_similarity(query_embedding, text_embeddings)\n",
    "    # Get the indices of the top-N most similar products\n",
    "    top_indices = similarity_scores.argsort()[0][-top_n:][::-1]\n",
    "    # Retrieve the top-N recommended products\n",
    "    recommendations = processed_df.iloc[top_indices]\n",
    "    \n",
    "    # Generate HTML representation of the results\n",
    "    html_output = \"<table>\"\n",
    "    \n",
    "    for index, row in recommendations.iterrows():\n",
    "        html_output += \"<tr>\"\n",
    "        html_output += f\"<td><img src='{row['IMAGE_URL']}' style='width:150px;height:150px;'></td>\"\n",
    "        html_output += \"<td>\"\n",
    "        html_output += f\"<b>Product Name:</b> {row['PRODUCT_NAME']}<br>\"\n",
    "        html_output += f\"<b>Price:</b> {row['PRODUCT_PRICE']}<br>\"\n",
    "        html_output += f\"<b>Brand:</b> {row['PRODUCT_BRAND']}<br>\"\n",
    "        html_output += \"</td>\"\n",
    "        html_output += \"</tr>\"\n",
    "    \n",
    "    html_output += \"</table>\"\n",
    "    \n",
    "    # Display the HTML output\n",
    "    display(HTML(html_output))"
   ]
  },
  {
   "cell_type": "markdown",
   "id": "572aec5d",
   "metadata": {},
   "source": [
    "# Testing "
   ]
  },
  {
   "cell_type": "code",
   "execution_count": 99,
   "id": "2b730e41",
   "metadata": {},
   "outputs": [
    {
     "data": {
      "text/html": [
       "<table><tr><td><img src='https://www.edeka24.de/out/pictures/generated/product/1/540_540_90/bio_alnatura_feine_bitterschokolade_100g.jpg' style='width:150px;height:150px;'></td><td><b>Product Name:</b> Alnatura organic fine dark chocolate 100g<br><b>Price:</b> 1.59<br><b>Brand:</b> nan<br></td></tr><tr><td><img src='https://static.mueller.de/markant_04104420239968_pv_3581963/pdthumb/alnatura-dunkle-nuss-schokolade-100g.jpg' style='width:150px;height:150px;'></td><td><b>Product Name:</b> Dark Nut Chocolate 100G<br><b>Price:</b> 1.69<br><b>Brand:</b> nan<br></td></tr><tr><td><img src='https://m.media-amazon.com/images/I/61SqRl-PfuL._SX522_.jpg' style='width:150px;height:150px;'></td><td><b>Product Name:</b> Brandt Minis wholemeal dark chocolate with dark chocolate 125g<br><b>Price:</b> 3.32<br><b>Brand:</b> Zwieback<br></td></tr><tr><td><img src='https://www.edeka24.de/out/pictures/generated/product/1/540_540_90/lindt_tafel_dunkle_haselnuss_110g.jpg' style='width:150px;height:150px;'></td><td><b>Product Name:</b> Lindt Dark Hazelnut 110G<br><b>Price:</b> 1.59<br><b>Brand:</b> nan<br></td></tr><tr><td><img src='https://m.media-amazon.com/images/I/61uu4-aorLL._SX522_.jpg' style='width:150px;height:150px;'></td><td><b>Product Name:</b> Lindt chocolate dark chocolate set | 847g | Set of 6 dark Lindt chocolate specialties (bars, LINDOR, pralines) from off-dry to dark | bulk pack | chocolate gift<br><b>Price:</b> 28.86<br><b>Brand:</b> Besuche den Lindt-Store<br></td></tr></table>"
      ],
      "text/plain": [
       "<IPython.core.display.HTML object>"
      ]
     },
     "metadata": {},
     "output_type": "display_data"
    }
   ],
   "source": [
    "# Example usage\n",
    "query = \"dark chocolate\"\n",
    "search_products(query, top_n=5)"
   ]
  },
  {
   "cell_type": "code",
   "execution_count": 100,
   "id": "85d4d600",
   "metadata": {},
   "outputs": [
    {
     "data": {
      "text/html": [
       "<table><tr><td><img src='https://m.media-amazon.com/images/I/51lHMj3NWQS._SY679_.jpg' style='width:150px;height:150px;'></td><td><b>Product Name:</b> Monin Lemonade Mix 0.7l<br><b>Price:</b> 9.95<br><b>Brand:</b> MONIN<br></td></tr><tr><td><img src='https://m.media-amazon.com/images/I/714KD2bQ8CL._SX522_.jpg' style='width:150px;height:150px;'></td><td><b>Product Name:</b> Calypso Lemonade - Strawberry Lemonade - 1 x 473ml<br><b>Price:</b> 3.99<br><b>Brand:</b> Calypso<br></td></tr><tr><td><img src='https://m.media-amazon.com/images/I/414Kl8mbDcL.jpg' style='width:150px;height:150px;'></td><td><b>Product Name:</b> Mexican Cartel Lemonade, Lemonade, Lemonade, Cacti, 100ml, 0mg<br><b>Price:</b> 20.79<br><b>Brand:</b> Arômes et liquides<br></td></tr><tr><td><img src='https://m.media-amazon.com/images/I/71hGGmDNdzL._SX522_.jpg' style='width:150px;height:150px;'></td><td><b>Product Name:</b> Calypso Lemonade - Tropical Mango Lemonade - 1 x 473ml<br><b>Price:</b> 3.49<br><b>Brand:</b> Calypso<br></td></tr><tr><td><img src='https://m.media-amazon.com/images/I/51wm0KUFjFL._SX522_.jpg' style='width:150px;height:150px;'></td><td><b>Product Name:</b> Calypso Lemonade - Ocean Blue Lemonade - 1 x 473ml<br><b>Price:</b> 3.99<br><b>Brand:</b> Calypso<br></td></tr></table>"
      ],
      "text/plain": [
       "<IPython.core.display.HTML object>"
      ]
     },
     "metadata": {},
     "output_type": "display_data"
    }
   ],
   "source": [
    "# Example usage\n",
    "query = \"lemonade\"\n",
    "search_products(query, top_n=5)"
   ]
  },
  {
   "cell_type": "code",
   "execution_count": 101,
   "id": "2100cfde",
   "metadata": {},
   "outputs": [
    {
     "data": {
      "text/html": [
       "<table><tr><td><img src='https://m.media-amazon.com/images/I/81YbJZPaYeL._SY679_.jpg' style='width:150px;height:150px;'></td><td><b>Product Name:</b> Beverage Powder Orange, Pack of 1 (1 x 1000 g)<br><b>Price:</b> 8.71<br><b>Brand:</b> Krüger<br></td></tr><tr><td><img src='https://m.media-amazon.com/images/I/61peTavM-sL._SX522_PIbundle-15,TopRight,0,0_SX522SY294SH20_.jpg' style='width:150px;height:150px;'></td><td><b>Product Name:</b> Syrup without sugar<br><b>Price:</b> 14.5<br><b>Brand:</b> Teisseire<br></td></tr><tr><td><img src='https://m.media-amazon.com/images/I/71QzWOM5psL._SY679_PIbundle-15,TopRight,0,0_SX294SY679SH20_.jpg' style='width:150px;height:150px;'></td><td><b>Product Name:</b> Syrup without sugar<br><b>Price:</b> 6.2<br><b>Brand:</b> Teisseire<br></td></tr><tr><td><img src='https://img.rewe-static.de/8669735/34638851_digital-image.png?output-quality=60&fit=inside|840:840&background-color=ffffff' style='width:150px;height:150px;'></td><td><b>Product Name:</b> Yes! Beverage syrup with orange flavor 0.5l<br><b>Price:</b> 2.79<br><b>Brand:</b> nan<br></td></tr><tr><td><img src='https://m.media-amazon.com/images/I/71oES0ILNEL._SY679_PIbundle-3,TopRight,0,0_SX164SY679SH20_.jpg' style='width:150px;height:150px;'></td><td><b>Product Name:</b> Monin coconut (1 x 0.7 l)<br><b>Price:</b> 11.69<br><b>Brand:</b> MONIN<br></td></tr></table>"
      ],
      "text/plain": [
       "<IPython.core.display.HTML object>"
      ]
     },
     "metadata": {},
     "output_type": "display_data"
    }
   ],
   "source": [
    "# Example usage\n",
    "query = \"beverage\"\n",
    "search_products(query, top_n=5)"
   ]
  },
  {
   "cell_type": "code",
   "execution_count": 109,
   "id": "f88d6bda",
   "metadata": {},
   "outputs": [
    {
     "data": {
      "text/html": [
       "<table><tr><td><img src='https://res.cloudinary.com/goflink/image/upload/w_600,h_800/product-images-prod/2b1a87bc-d7ae-436a-b2e7-65e09134c802.heic' style='width:150px;height:150px;'></td><td><b>Product Name:</b> High C Mild Breakfast 1l<br><b>Price:</b> 2.39<br><b>Brand:</b> nan<br></td></tr><tr><td><img src='https://img.rewe-static.de/8629261/34113158_digital-image.png?output-quality=60&fit=inside|840:840&background-color=ffffff' style='width:150px;height:150px;'></td><td><b>Product Name:</b> High C Breakfast Juice 100% Juice 1l<br><b>Price:</b> 2.29<br><b>Brand:</b> nan<br></td></tr><tr><td><img src='https://m.media-amazon.com/images/I/81R1MM9SDEL._SY679_.jpg' style='width:150px;height:150px;'></td><td><b>Product Name:</b> Walthers apple juice direct juice natural (1 x 5 l juice box)<br><b>Price:</b> 14.65<br><b>Brand:</b> Walther's<br></td></tr><tr><td><img src='https://m.media-amazon.com/images/I/81R1MM9SDEL._SY679_.jpg' style='width:150px;height:150px;'></td><td><b>Product Name:</b> Walthers apple juice direct juice natural (1 x 5 l juice box)<br><b>Price:</b> 13.08<br><b>Brand:</b> Walther's<br></td></tr><tr><td><img src='https://static.mueller.de/markant_04104420072862_pd_3764094/pdthumb/alnatura-gemuesesaft-0.jpg' style='width:150px;height:150px;'></td><td><b>Product Name:</b> vegetable juice 0<br><b>Price:</b> 1.29<br><b>Brand:</b> nan<br></td></tr></table>"
      ],
      "text/plain": [
       "<IPython.core.display.HTML object>"
      ]
     },
     "metadata": {},
     "output_type": "display_data"
    }
   ],
   "source": [
    "# Example usage\n",
    "query = \"juice\"\n",
    "search_products(query, top_n=5)"
   ]
  },
  {
   "cell_type": "code",
   "execution_count": null,
   "id": "f34158c8",
   "metadata": {},
   "outputs": [],
   "source": []
  }
 ],
 "metadata": {
  "kernelspec": {
   "display_name": "Python 3 (ipykernel)",
   "language": "python",
   "name": "python3"
  },
  "language_info": {
   "codemirror_mode": {
    "name": "ipython",
    "version": 3
   },
   "file_extension": ".py",
   "mimetype": "text/x-python",
   "name": "python",
   "nbconvert_exporter": "python",
   "pygments_lexer": "ipython3",
   "version": "3.8.6"
  }
 },
 "nbformat": 4,
 "nbformat_minor": 5
}
